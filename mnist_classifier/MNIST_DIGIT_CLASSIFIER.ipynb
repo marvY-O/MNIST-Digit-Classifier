{
 "cells": [
  {
   "cell_type": "markdown",
   "metadata": {
    "id": "6NnO4rd6FCEE"
   },
   "source": [
    "# **MNIST-DIGIT CLASSIFIER**\n",
    "\n",
    "**Vyom Verma 2022**\n",
    "\n",
    "\n"
   ]
  },
  {
   "cell_type": "markdown",
   "metadata": {
    "id": "2EvM7tUmCk0J"
   },
   "source": [
    "## Introduction"
   ]
  },
  {
   "cell_type": "markdown",
   "metadata": {
    "id": "liIooVq51dsn"
   },
   "source": [
    "Importing necessary libraries such as tensorflow, numpy and matplotlib. \n",
    "\n",
    "*   [Tensorflow](https://https://www.tensorflow.org/), An open source library which will be used to implement the Deep Neural Network and other preprocessing tasks.\n",
    "*   [NumPy](https://https://numpy.org/) is used for various numerical tasks to be performed on the data before and after training.\n",
    "*   [Matplotlib](https://https://matplotlib.org/) will be used for plotting our data, in this case images.\n",
    "\n",
    "\n",
    "\n"
   ]
  },
  {
   "cell_type": "code",
   "execution_count": null,
   "metadata": {
    "id": "-TxJOzOyGwAK"
   },
   "outputs": [],
   "source": [
    "import tensorflow as tf\n",
    "import numpy as np\n",
    "import matplotlib.pyplot as plt"
   ]
  },
  {
   "cell_type": "markdown",
   "metadata": {
    "id": "qWGVvX3v2xzB"
   },
   "source": [
    "MNIST Handwritten Digit dataset contains 28 X 28 px images of handwritten single digits. The dataset is available in tensorflow via the datasets API. The data is already divided into training and testing, furthermore into features and labels."
   ]
  },
  {
   "cell_type": "code",
   "execution_count": null,
   "metadata": {
    "id": "RFxiJZCEHsvD"
   },
   "outputs": [],
   "source": [
    "mnist = tf.keras.datasets.mnist"
   ]
  },
  {
   "cell_type": "code",
   "execution_count": null,
   "metadata": {
    "id": "ldo6roSNMP4e"
   },
   "outputs": [],
   "source": [
    "(train_images, train_labels), (test_images, test_labels) = mnist.load_data()"
   ]
  },
  {
   "cell_type": "code",
   "execution_count": null,
   "metadata": {
    "colab": {
     "base_uri": "https://localhost:8080/"
    },
    "id": "QnB0r6h43m2B",
    "outputId": "d5541255-f2b4-48a0-9aff-7d15dc263729"
   },
   "outputs": [
    {
     "name": "stdout",
     "output_type": "stream",
     "text": [
      "There are 60000 images for training and 10000 for testing\n"
     ]
    }
   ],
   "source": [
    "print('There are {} images for training and {} for testing'.format(train_images.shape[0], test_images.shape[0]))"
   ]
  },
  {
   "cell_type": "markdown",
   "metadata": {
    "id": "Fbh4_jqI3k9x"
   },
   "source": [
    "60000 images are available for training the model and 10000 are available for training. Fortunately, the data is already clean and ordered, we don't need to perform any preprocessing."
   ]
  },
  {
   "cell_type": "code",
   "execution_count": null,
   "metadata": {
    "colab": {
     "base_uri": "https://localhost:8080/",
     "height": 282
    },
    "id": "gePoT7GV610B",
    "outputId": "3be4e86f-b814-4abc-da70-aa7b8bb1a7e8"
   },
   "outputs": [
    {
     "name": "stdout",
     "output_type": "stream",
     "text": [
      "Label: 0\n"
     ]
    },
    {
     "data": {
      "image/png": "[encoded data removed]",
      "text/plain": [
       "<Figure size 432x288 with 1 Axes>"
      ]
     },
     "metadata": {
      "needs_background": "light"
     },
     "output_type": "display_data"
    }
   ],
   "source": [
    "index = 69\n",
    "plt.imshow(train_images[index])\n",
    "print(\"Label: {}\".format(train_labels[index]))"
   ]
  },
  {
   "cell_type": "markdown",
   "metadata": {
    "id": "2Jw7jtsh7AEO"
   },
   "source": [
    "By changing the index value we can visualize various different images and their labels in the dataset."
   ]
  },
  {
   "cell_type": "markdown",
   "metadata": {
    "id": "K1L01XdGCqSf"
   },
   "source": [
    "## Model definition and training"
   ]
  },
  {
   "cell_type": "markdown",
   "metadata": {
    "id": "JEm-wS9H7Jb5"
   },
   "source": [
    "Now we will define our model, we will implement a CNN(Convolutional Neural Network) which is widely used to fetch prominent features from the images by applying convolutions and maxpooling layers on the image. The model is defined below, it's fun to experiment with different layers and see the effect on loss and accuracy.  The function summary looks like the following."
   ]
  },
  {
   "cell_type": "code",
   "execution_count": null,
   "metadata": {
    "colab": {
     "base_uri": "https://localhost:8080/"
    },
    "id": "xQKqLgulMQ_O",
    "outputId": "fea2981f-31b4-479a-a3c0-d722bd42a85d"
   },
   "outputs": [
    {
     "name": "stdout",
     "output_type": "stream",
     "text": [
      "Model: \"sequential_2\"\n",
      "_________________________________________________________________\n",
      " Layer (type)                Output Shape              Param #   \n",
      "=================================================================\n",
      " conv2d_4 (Conv2D)           (None, 26, 26, 64)        640       \n",
      "                                                                 \n",
      " max_pooling2d_4 (MaxPooling  (None, 13, 13, 64)       0         \n",
      " 2D)                                                             \n",
      "                                                                 \n",
      " conv2d_5 (Conv2D)           (None, 11, 11, 64)        36928     \n",
      "                                                                 \n",
      " max_pooling2d_5 (MaxPooling  (None, 5, 5, 64)         0         \n",
      " 2D)                                                             \n",
      "                                                                 \n",
      " flatten_2 (Flatten)         (None, 1600)              0         \n",
      "                                                                 \n",
      " dense_4 (Dense)             (None, 128)               204928    \n",
      "                                                                 \n",
      " dense_5 (Dense)             (None, 10)                1290      \n",
      "                                                                 \n",
      "=================================================================\n",
      "Total params: 243,786\n",
      "Trainable params: 243,786\n",
      "Non-trainable params: 0\n",
      "_________________________________________________________________\n"
     ]
    }
   ],
   "source": [
    "model = tf.keras.Sequential([\n",
    "                             tf.keras.layers.Conv2D(64, (3,3), activation='relu', input_shape=(28,28,1)),\n",
    "                             tf.keras.layers.MaxPooling2D(2,2),\n",
    "                             tf.keras.layers.Conv2D(64, (3,3), activation='relu'),\n",
    "                             tf.keras.layers.MaxPooling2D(2,2),\n",
    "                             tf.keras.layers.Flatten(),\n",
    "                             tf.keras.layers.Dense(128, activation='relu'),\n",
    "                             tf.keras.layers.Dense(10)\n",
    "                            ])\n",
    "model.summary()"
   ]
  },
  {
   "cell_type": "markdown",
   "metadata": {
    "id": "g3F4iHVu9OtQ"
   },
   "source": [
    "Before flattening the layers we have 64 5x5 images, which contains the features for an image in a condensed form. We will use the [Sparse Categorical Crossentropy](https://www.tensorflow.org/api_docs/python/tf/keras/losses/SparseCategoricalCrossentropy) as we wish to achieve multi-class classification. The optimizer used is [Adam](https://www.tensorflow.org/api_docs/python/tf/keras/optimizers/Adam) which is optimal for this case, although SGD(Stochastic Gradient Descent) would also have worked."
   ]
  },
  {
   "cell_type": "code",
   "execution_count": null,
   "metadata": {
    "id": "bpB8cf0gNBlm"
   },
   "outputs": [],
   "source": [
    "model.compile(loss=tf.keras.losses.SparseCategoricalCrossentropy(from_logits=True), optimizer='adam', metrics=['accuracy'])"
   ]
  },
  {
   "cell_type": "markdown",
   "metadata": {
    "id": "ajZKFUi19_nn"
   },
   "source": [
    "### Training\n",
    "Training of the model begins!"
   ]
  },
  {
   "cell_type": "code",
   "execution_count": null,
   "metadata": {
    "colab": {
     "base_uri": "https://localhost:8080/"
    },
    "id": "-kTKk_KLRnCi",
    "outputId": "8bac9f2d-980b-400a-bc4f-50177485d32c"
   },
   "outputs": [
    {
     "name": "stdout",
     "output_type": "stream",
     "text": [
      "Epoch 1/10\n",
      "1875/1875 [==============================] - 6s 3ms/step - loss: 0.2479 - accuracy: 0.9536\n",
      "Epoch 2/10\n",
      "1875/1875 [==============================] - 5s 3ms/step - loss: 0.0610 - accuracy: 0.9821\n",
      "Epoch 3/10\n",
      "1875/1875 [==============================] - 5s 3ms/step - loss: 0.0477 - accuracy: 0.9853\n",
      "Epoch 4/10\n",
      "1875/1875 [==============================] - 5s 3ms/step - loss: 0.0387 - accuracy: 0.9885\n",
      "Epoch 5/10\n",
      "1875/1875 [==============================] - 5s 3ms/step - loss: 0.0340 - accuracy: 0.9895\n",
      "Epoch 6/10\n",
      "1875/1875 [==============================] - 5s 3ms/step - loss: 0.0291 - accuracy: 0.9910\n",
      "Epoch 7/10\n",
      "1875/1875 [==============================] - 5s 3ms/step - loss: 0.0262 - accuracy: 0.9923\n",
      "Epoch 8/10\n",
      "1875/1875 [==============================] - 5s 3ms/step - loss: 0.0228 - accuracy: 0.9930\n",
      "Epoch 9/10\n",
      "1875/1875 [==============================] - 5s 3ms/step - loss: 0.0203 - accuracy: 0.9940\n",
      "Epoch 10/10\n",
      "1875/1875 [==============================] - 5s 3ms/step - loss: 0.0185 - accuracy: 0.9949\n"
     ]
    }
   ],
   "source": [
    "history = model.fit(train_images, train_labels, epochs=10)"
   ]
  },
  {
   "cell_type": "markdown",
   "metadata": {
    "id": "ETu90SVq-At_"
   },
   "source": [
    "We trained the model for 10 epochs, let's plot the training loss on each epoch, to see the descent."
   ]
  },
  {
   "cell_type": "code",
   "execution_count": null,
   "metadata": {
    "colab": {
     "base_uri": "https://localhost:8080/",
     "height": 316
    },
    "id": "0yrRnR5NhcUn",
    "outputId": "7394d324-c854-40d8-ab6d-10e0ffb4e7d0"
   },
   "outputs": [
    {
     "data": {
      "text/plain": [
       "<Figure size 432x288 with 0 Axes>"
      ]
     },
     "execution_count": 37,
     "metadata": {},
     "output_type": "execute_result"
    },
    {
     "data": {
      "image/png": "[encoded data removed]",
      "text/plain": [
       "<Figure size 432x288 with 1 Axes>"
      ]
     },
     "metadata": {
      "needs_background": "light"
     },
     "output_type": "display_data"
    },
    {
     "data": {
      "text/plain": [
       "<Figure size 432x288 with 0 Axes>"
      ]
     },
     "metadata": {},
     "output_type": "display_data"
    }
   ],
   "source": [
    "acc = history.history['accuracy']\n",
    "loss = history.history['loss']\n",
    "\n",
    "plt.plot([i for i in range(1, 11)], loss, 'r', label='Training accuracy')\n",
    "plt.title('Training Loss')\n",
    "plt.legend(loc=0)\n",
    "plt.figure()"
   ]
  },
  {
   "cell_type": "markdown",
   "metadata": {
    "id": "MbkUQVDy-Lz4"
   },
   "source": [
    "As it is visible that loss gradually decreases on each epoch which is a good indicator, the accuracy also seems good, but we will need to make sure that we are not overfitting. For that we will test our model on the test dataset, which conatains the images it has not seen before."
   ]
  },
  {
   "cell_type": "markdown",
   "metadata": {
    "id": "RdgRhgqnC-nP"
   },
   "source": [
    "## Evaluating the model"
   ]
  },
  {
   "cell_type": "code",
   "execution_count": null,
   "metadata": {
    "colab": {
     "base_uri": "https://localhost:8080/"
    },
    "id": "vp7vdA7Hmdps",
    "outputId": "a5960f1e-34e6-4f71-d003-4a3cd4838058"
   },
   "outputs": [
    {
     "name": "stdout",
     "output_type": "stream",
     "text": [
      "313/313 - 1s - loss: 0.0564 - accuracy: 0.9885 - 709ms/epoch - 2ms/step\n",
      "\n",
      "Test accuracy: 0.9884999990463257\n"
     ]
    }
   ],
   "source": [
    "test_loss, test_acc = model.evaluate(test_images,  test_labels, verbose=2)\n",
    "\n",
    "print('\\nTest accuracy:', test_acc)"
   ]
  },
  {
   "cell_type": "markdown",
   "metadata": {
    "id": "v5pHIS-4-uxf"
   },
   "source": [
    "The model gives approx. 98.8% accuracy on the validation set, which is pretty decent. Let's see the result by running the model on one image at index position in test dataset."
   ]
  },
  {
   "cell_type": "code",
   "execution_count": null,
   "metadata": {
    "id": "_v1YNHCRm1WH"
   },
   "outputs": [],
   "source": [
    "index = 69\n",
    "pred = model.predict(np.array([test_images[index]]))"
   ]
  },
  {
   "cell_type": "code",
   "execution_count": null,
   "metadata": {
    "colab": {
     "base_uri": "https://localhost:8080/",
     "height": 282
    },
    "id": "zrPVzjNqn-Ma",
    "outputId": "635b3920-6526-43a8-e41e-c2658df3056d"
   },
   "outputs": [
    {
     "name": "stdout",
     "output_type": "stream",
     "text": [
      "Predicted Value: 0\n"
     ]
    },
    {
     "data": {
      "image/png": "[encoded data removed]",
      "text/plain": [
       "<Figure size 432x288 with 1 Axes>"
      ]
     },
     "metadata": {
      "needs_background": "light"
     },
     "output_type": "display_data"
    }
   ],
   "source": [
    "plt.imshow(test_images[index])\n",
    "print(\"Predicted Value: {}\".format(list(pred[0]).index(max(pred[0]))))"
   ]
  },
  {
   "cell_type": "markdown",
   "metadata": {
    "id": "-0bCOyp3CV7R"
   },
   "source": [
    "The image was correctly classified! Now we can save the entire model in a folder, and the deploy the same on the web."
   ]
  },
  {
   "cell_type": "markdown",
   "metadata": {
    "id": "hvjGYNvqDGFA"
   },
   "source": [
    "## Exporting\n",
    "We can call model.save() to save the entire model in a directory and then move the directory to our app folder in Django."
   ]
  },
  {
   "cell_type": "code",
   "execution_count": null,
   "metadata": {
    "colab": {
     "base_uri": "https://localhost:8080/"
    },
    "id": "Re1elDzup0Rj",
    "outputId": "a951ac5c-b6bb-4ea8-f5bd-bc86a7c292f8",
    "scrolled": true
   },
   "outputs": [
    {
     "name": "stdout",
     "output_type": "stream",
     "text": [
      "INFO:tensorflow:Assets written to: saved_model/mnist/assets\n"
     ]
    },
    {
     "name": "stderr",
     "output_type": "stream",
     "text": [
      "INFO:tensorflow:Assets written to: saved_model/mnist/assets\n"
     ]
    }
   ],
   "source": [
    "!mkdir -p saved_model\n",
    "model.save('saved_model/mnist')"
   ]
  },
  {
   "cell_type": "code",
   "execution_count": null,
   "metadata": {
    "colab": {
     "base_uri": "https://localhost:8080/",
     "height": 36
    },
    "id": "63O5PFeOp12n",
    "outputId": "9b423b15-69be-4ae0-dee7-7a6590ed36fc"
   },
   "outputs": [
    {
     "data": {
      "application/vnd.google.colaboratory.intrinsic+json": {
       "type": "string"
      },
      "text/plain": [
       "'/content/mnist_model.zip'"
      ]
     },
     "execution_count": 42,
     "metadata": {},
     "output_type": "execute_result"
    }
   ],
   "source": [
    "import shutil\n",
    "shutil.make_archive('mnist_model', 'zip', 'saved_model/mnist')"
   ]
  }
 ],
 "metadata": {
  "accelerator": "GPU",
  "colab": {
   "collapsed_sections": [],
   "name": "MNIST-DIGIT CLASSIFIER.ipynb",
   "provenance": []
  },
  "gpuClass": "standard",
  "kernelspec": {
   "display_name": "Python 3 (ipykernel)",
   "language": "python",
   "name": "python3"
  },
  "language_info": {
   "codemirror_mode": {
    "name": "ipython",
    "version": 3
   },
   "file_extension": ".py",
   "mimetype": "text/x-python",
   "name": "python",
   "nbconvert_exporter": "python",
   "pygments_lexer": "ipython3",
   "version": "3.8.10"
  }
 },
 "nbformat": 4,
 "nbformat_minor": 1
}
